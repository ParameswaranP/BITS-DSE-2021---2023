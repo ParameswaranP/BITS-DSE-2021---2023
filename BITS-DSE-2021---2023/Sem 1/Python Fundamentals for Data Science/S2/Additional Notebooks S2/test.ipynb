{
 "cells": [
  {
   "cell_type": "code",
   "execution_count": 19,
   "id": "a3dc01d2-dc95-4e17-8373-b6d6bd3189fe",
   "metadata": {},
   "outputs": [],
   "source": [
    "a1 = \"Helllllo World\""
   ]
  },
  {
   "cell_type": "code",
   "execution_count": 2,
   "id": "60955720-59a0-427c-a596-f55411080018",
   "metadata": {},
   "outputs": [
    {
     "data": {
      "text/plain": [
       "'Hello World'"
      ]
     },
     "execution_count": 2,
     "metadata": {},
     "output_type": "execute_result"
    }
   ],
   "source": [
    "a1[ : ]"
   ]
  },
  {
   "cell_type": "code",
   "execution_count": 3,
   "id": "04405b06-983f-444c-bc83-5fa6db8d49bc",
   "metadata": {},
   "outputs": [
    {
     "data": {
      "text/plain": [
       "'llo World'"
      ]
     },
     "execution_count": 3,
     "metadata": {},
     "output_type": "execute_result"
    }
   ],
   "source": [
    "a1[2: ]"
   ]
  },
  {
   "cell_type": "code",
   "execution_count": 4,
   "id": "4adda67d-ceed-45a7-a34d-489b7d2ba7e7",
   "metadata": {},
   "outputs": [
    {
     "data": {
      "text/plain": [
       "'lo W'"
      ]
     },
     "execution_count": 4,
     "metadata": {},
     "output_type": "execute_result"
    }
   ],
   "source": [
    "a1[3:7]"
   ]
  },
  {
   "cell_type": "code",
   "execution_count": 5,
   "id": "8edf274f-202d-41c0-8542-50a51bbd681c",
   "metadata": {},
   "outputs": [
    {
     "data": {
      "text/plain": [
       "'el o'"
      ]
     },
     "execution_count": 5,
     "metadata": {},
     "output_type": "execute_result"
    }
   ],
   "source": [
    "a1[1:8:2]"
   ]
  },
  {
   "cell_type": "code",
   "execution_count": 8,
   "id": "2728872f-8d5e-41bc-96b4-37120acbda65",
   "metadata": {},
   "outputs": [
    {
     "data": {
      "text/plain": [
       "2"
      ]
     },
     "execution_count": 8,
     "metadata": {},
     "output_type": "execute_result"
    }
   ],
   "source": [
    "a1.index('l')"
   ]
  },
  {
   "cell_type": "code",
   "execution_count": 22,
   "id": "aeae6754-1960-4d85-9562-9aacc40e80ab",
   "metadata": {},
   "outputs": [
    {
     "data": {
      "text/plain": [
       "'lllllllHellllllo     '"
      ]
     },
     "execution_count": 22,
     "metadata": {},
     "output_type": "execute_result"
    }
   ],
   "source": [
    "s1 = \"lllllllHellllllo     \"\n",
    "s1"
   ]
  },
  {
   "cell_type": "code",
   "execution_count": 17,
   "id": "ec369380-98d7-4c04-86db-502c4f4c1f92",
   "metadata": {},
   "outputs": [
    {
     "data": {
      "text/plain": [
       "'Hello'"
      ]
     },
     "execution_count": 17,
     "metadata": {},
     "output_type": "execute_result"
    }
   ],
   "source": [
    "x = s1.strip()\n",
    "x"
   ]
  },
  {
   "cell_type": "code",
   "execution_count": 23,
   "id": "c199e9b8-5220-4319-8f85-fcc933e979f7",
   "metadata": {},
   "outputs": [
    {
     "data": {
      "text/plain": [
       "'Hellllllo     '"
      ]
     },
     "execution_count": 23,
     "metadata": {},
     "output_type": "execute_result"
    }
   ],
   "source": [
    "x = s1.strip('l')\n",
    "x"
   ]
  },
  {
   "cell_type": "code",
   "execution_count": 26,
   "id": "60431dba-0372-41f4-bd9e-b8d9832eb652",
   "metadata": {},
   "outputs": [],
   "source": [
    "s2 = \"$$$$$Hello$$How$$are$$you\""
   ]
  },
  {
   "cell_type": "code",
   "execution_count": 27,
   "id": "3ba0bb28-c6d7-424a-8820-8c8e8e0d28ca",
   "metadata": {},
   "outputs": [
    {
     "data": {
      "text/plain": [
       "'Hello$$How$$are$$you'"
      ]
     },
     "execution_count": 27,
     "metadata": {},
     "output_type": "execute_result"
    }
   ],
   "source": [
    "x = s2.strip(\"$\")\n",
    "x"
   ]
  },
  {
   "cell_type": "code",
   "execution_count": 28,
   "id": "a48641cb-b7d6-41f7-8020-82619b47e262",
   "metadata": {},
   "outputs": [
    {
     "name": "stdout",
     "output_type": "stream",
     "text": [
      "dlroW ollllleH\n"
     ]
    }
   ],
   "source": [
    "print(a1[ : :-1])"
   ]
  },
  {
   "cell_type": "code",
   "execution_count": 31,
   "id": "bf5d2f09-713c-4c31-8c55-f389e2953cf1",
   "metadata": {},
   "outputs": [
    {
     "data": {
      "text/plain": [
       "5"
      ]
     },
     "execution_count": 31,
     "metadata": {},
     "output_type": "execute_result"
    }
   ],
   "source": [
    "list1 = [1, 2, 3, 4, 5, 6]\n",
    "list1.pop()\n",
    "list1.pop()"
   ]
  },
  {
   "cell_type": "code",
   "execution_count": 36,
   "id": "e31398a2-6d9e-4a45-909e-463eee35596b",
   "metadata": {},
   "outputs": [
    {
     "name": "stdout",
     "output_type": "stream",
     "text": [
      "1\n",
      "3\n"
     ]
    }
   ],
   "source": [
    "for i in range(1, 5, 2):\n",
    "    print(i)"
   ]
  },
  {
   "cell_type": "code",
   "execution_count": 37,
   "id": "cd7c6062-4480-4e1c-8ca3-4211df4aa755",
   "metadata": {},
   "outputs": [],
   "source": [
    "my_tuple = ('a', 'b', 'c', 'd', 'e')\n",
    "new_tuple = my_tuple"
   ]
  },
  {
   "cell_type": "code",
   "execution_count": 38,
   "id": "dae5564b-9c0f-42a5-9914-c26b54b8a3d5",
   "metadata": {},
   "outputs": [],
   "source": [
    "new_tuple = (\"a\", \"b\", \"e\", \"c\", \"d\")"
   ]
  },
  {
   "cell_type": "code",
   "execution_count": 39,
   "id": "e424c46d-3081-4c56-bc08-9d3293c8732f",
   "metadata": {},
   "outputs": [
    {
     "data": {
      "text/plain": [
       "('a', 'b', 'c', 'd', 'e')"
      ]
     },
     "execution_count": 39,
     "metadata": {},
     "output_type": "execute_result"
    }
   ],
   "source": [
    "my_tuple"
   ]
  },
  {
   "cell_type": "code",
   "execution_count": 40,
   "id": "74acba32-2045-4a04-b950-9189fb01cdea",
   "metadata": {},
   "outputs": [
    {
     "data": {
      "text/plain": [
       "('a', 'b', 'e', 'c', 'd')"
      ]
     },
     "execution_count": 40,
     "metadata": {},
     "output_type": "execute_result"
    }
   ],
   "source": [
    "new_tuple"
   ]
  },
  {
   "cell_type": "code",
   "execution_count": 41,
   "id": "80372a70-19a2-4562-93d1-479e102c4d0b",
   "metadata": {},
   "outputs": [
    {
     "name": "stdout",
     "output_type": "stream",
     "text": [
      "dict_keys(['a', 'b', 'c', 'd'])\n"
     ]
    }
   ],
   "source": [
    "my_dict = {\"a\" : 1, \"b\" : 2, \"c\" : 3, \"d\" : 4}\n",
    "print(my_dict.keys())"
   ]
  },
  {
   "cell_type": "code",
   "execution_count": null,
   "id": "501bb30e-6d9c-4af6-a670-fee6c3e45d3d",
   "metadata": {},
   "outputs": [],
   "source": []
  }
 ],
 "metadata": {
  "kernelspec": {
   "display_name": "Python 3 (ipykernel)",
   "language": "python",
   "name": "python3"
  },
  "language_info": {
   "codemirror_mode": {
    "name": "ipython",
    "version": 3
   },
   "file_extension": ".py",
   "mimetype": "text/x-python",
   "name": "python",
   "nbconvert_exporter": "python",
   "pygments_lexer": "ipython3",
   "version": "3.9.5"
  }
 },
 "nbformat": 4,
 "nbformat_minor": 5
}
