{
 "cells": [
  {
   "cell_type": "markdown",
   "metadata": {},
   "source": [
    "<b> Conditional Statements <b>"
   ]
  },
  {
   "cell_type": "markdown",
   "metadata": {},
   "source": [
    "<img width=\"200\" height=\"200\" src=\"./if-statement.jpg\">"
   ]
  },
  {
   "cell_type": "code",
   "execution_count": 2,
   "metadata": {},
   "outputs": [
    {
     "name": "stdout",
     "output_type": "stream",
     "text": [
      "Enter a number \n",
      "100\n",
      "I am always there ...\n"
     ]
    }
   ],
   "source": [
    "#if condition\n",
    "number1 = int(input(\"Enter a number \\n\"))\n",
    "\n",
    "if(number1 == 5):\n",
    "    print(\"Number enetered is 5 ... \") #body of if condition\n",
    "    print(\"*************\")\n",
    "print(\"I am always there ...\") #outside the if "
   ]
  },
  {
   "cell_type": "code",
   "execution_count": 4,
   "metadata": {},
   "outputs": [
    {
     "name": "stdout",
     "output_type": "stream",
     "text": [
      "Enter a number \n",
      "150\n",
      "Number enteres is  150\n",
      "--------------\n",
      "I am always there ...\n"
     ]
    }
   ],
   "source": [
    "#if-else\n",
    "number1 = int(input(\"Enter a number \\n\"))\n",
    "\n",
    "if(number1 > 5 and number1 <100):\n",
    "    print(\"Number enetered is between 5 and 100 ... \") #body of if condition\n",
    "    print(\"*************\")\n",
    "else:\n",
    "    print(\"Number enteres is \", number1)\n",
    "    print(\"--------------\") # else blocks\n",
    "print(\"I am always there ...\") #outside the if - else block"
   ]
  },
  {
   "cell_type": "code",
   "execution_count": 8,
   "metadata": {},
   "outputs": [
    {
     "name": "stdout",
     "output_type": "stream",
     "text": [
      "Enter a number \n",
      "2\n",
      "Number is less than 5\n",
      "I am outside the cond\n"
     ]
    }
   ],
   "source": [
    "#chained if\n",
    "\n",
    "number1 =  int(input(\"Enter a number \\n\"))\n",
    "\n",
    "if number1 == 5:\n",
    "    print(\"Number is 5\")\n",
    "elif number1 > 5:\n",
    "    print(\"Number is greater than 5\")\n",
    "else:\n",
    "    print(\"Number is less than 5\")\n",
    "\n",
    "print(\"I am outside the cond\")"
   ]
  },
  {
   "cell_type": "code",
   "execution_count": 12,
   "metadata": {},
   "outputs": [
    {
     "name": "stdout",
     "output_type": "stream",
     "text": [
      "Enter final marks \n",
      "150\n",
      "Repeat :( \n",
      "Results above \n"
     ]
    }
   ],
   "source": [
    "# chained if\n",
    "\n",
    "mark = int(input(\"Enter final marks \\n\"))\n",
    "\n",
    "print(\"Results above \")    "
   ]
  },
  {
   "cell_type": "code",
   "execution_count": 15,
   "metadata": {},
   "outputs": [
    {
     "name": "stdout",
     "output_type": "stream",
     "text": [
      "Enter final marks \n",
      "95\n",
      "You got distinction\n",
      "Congrats ...\n",
      "Results is above\n"
     ]
    }
   ],
   "source": [
    "#nested if \n",
    "\n",
    "mark = int(input(\"Enter final marks \\n\"))\n",
    "\n",
    "if mark>100 or mark < 0:\n",
    "    print(\"You entered invalid  mark\") #if block\n",
    "else:\n",
    "    if mark >= 80 and mark <=100:\n",
    "        print(\"You got distinction\")\n",
    "        print(\"Congrats ...\")\n",
    "    elif mark >=60 and mark <80:\n",
    "        print(\"You got first class\")\n",
    "    elif mark >=40 and mark <60:\n",
    "        print(\"You got second class\")\n",
    "    else:\n",
    "        print(\"Repeat :( \")\n",
    "print(\"Results is above\") #outside condn"
   ]
  },
  {
   "cell_type": "code",
   "execution_count": 17,
   "metadata": {
    "scrolled": true
   },
   "outputs": [
    {
     "name": "stdout",
     "output_type": "stream",
     "text": [
      "Enter a number \n",
      "50\n"
     ]
    },
    {
     "ename": "TypeError",
     "evalue": "'>' not supported between instances of 'str' and 'int'",
     "output_type": "error",
     "traceback": [
      "\u001b[1;31m---------------------------------------------------------------------------\u001b[0m",
      "\u001b[1;31mTypeError\u001b[0m                                 Traceback (most recent call last)",
      "\u001b[1;32m<ipython-input-17-d5de369d6154>\u001b[0m in \u001b[0;36m<module>\u001b[1;34m\u001b[0m\n\u001b[0;32m      2\u001b[0m \u001b[0mnumber1\u001b[0m \u001b[1;33m=\u001b[0m \u001b[0minput\u001b[0m\u001b[1;33m(\u001b[0m\u001b[1;34m\"Enter a number \\n\"\u001b[0m\u001b[1;33m)\u001b[0m\u001b[1;33m\u001b[0m\u001b[1;33m\u001b[0m\u001b[0m\n\u001b[0;32m      3\u001b[0m \u001b[1;33m\u001b[0m\u001b[0m\n\u001b[1;32m----> 4\u001b[1;33m \u001b[1;32mif\u001b[0m\u001b[1;33m(\u001b[0m\u001b[0mnumber1\u001b[0m \u001b[1;33m>\u001b[0m \u001b[1;36m5\u001b[0m\u001b[1;33m)\u001b[0m\u001b[1;33m:\u001b[0m\u001b[1;33m\u001b[0m\u001b[1;33m\u001b[0m\u001b[0m\n\u001b[0m\u001b[0;32m      5\u001b[0m     \u001b[0mprint\u001b[0m\u001b[1;33m(\u001b[0m\u001b[1;34m\"Number enetered is 5 ... \"\u001b[0m\u001b[1;33m)\u001b[0m \u001b[1;31m#body of if condition\u001b[0m\u001b[1;33m\u001b[0m\u001b[1;33m\u001b[0m\u001b[0m\n\u001b[0;32m      6\u001b[0m     \u001b[0mprint\u001b[0m\u001b[1;33m(\u001b[0m\u001b[1;34m\"*************\"\u001b[0m\u001b[1;33m)\u001b[0m\u001b[1;33m\u001b[0m\u001b[1;33m\u001b[0m\u001b[0m\n",
      "\u001b[1;31mTypeError\u001b[0m: '>' not supported between instances of 'str' and 'int'"
     ]
    }
   ],
   "source": [
    "#if condition\n",
    "number1 = input(\"Enter a number \\n\")\n",
    "\n",
    "if(number1 > 5):\n",
    "    print(\"Number enetered is 5 ... \") #body of if condition\n",
    "    print(\"*************\")\n",
    "print(\"I am always there ...\") #outside the if "
   ]
  },
  {
   "cell_type": "code",
   "execution_count": 18,
   "metadata": {},
   "outputs": [
    {
     "name": "stdout",
     "output_type": "stream",
     "text": [
      "Enter a number \n",
      "50\n",
      "There is some unexpected error !! \n",
      "I am always there ...\n"
     ]
    }
   ],
   "source": [
    "#if condition\n",
    "try:\n",
    "    number1 = input(\"Enter a number \\n\")\n",
    "    if(number1 > 5):\n",
    "        print(\"Number enetered is 5 ... \") #body of if condition\n",
    "        print(\"*************\")\n",
    "except:\n",
    "    print(\"There is some unexpected error !! \")\n",
    "finally:\n",
    "    print(\"I am always there ...\") #outside the if "
   ]
  },
  {
   "cell_type": "code",
   "execution_count": 19,
   "metadata": {},
   "outputs": [
    {
     "name": "stdout",
     "output_type": "stream",
     "text": [
      "Enter a number \n",
      "50\n",
      "There is some unexpected error !!  '>' not supported between instances of 'str' and 'int'\n",
      "I am always there ...\n"
     ]
    }
   ],
   "source": [
    "#if condition\n",
    "try:\n",
    "    number1 = input(\"Enter a number \\n\")\n",
    "    if(number1 > 5):\n",
    "        print(\"Number enetered is 5 ... \") #body of if condition\n",
    "        print(\"*************\")\n",
    "except Exception as e:\n",
    "    print(\"There is some unexpected error !! \", e)   \n",
    "finally:\n",
    "    print(\"I am always there ...\") #outside the if "
   ]
  },
  {
   "cell_type": "code",
   "execution_count": null,
   "metadata": {},
   "outputs": [],
   "source": []
  }
 ],
 "metadata": {
  "kernelspec": {
   "display_name": "Python 3",
   "language": "python",
   "name": "python3"
  },
  "language_info": {
   "codemirror_mode": {
    "name": "ipython",
    "version": 3
   },
   "file_extension": ".py",
   "mimetype": "text/x-python",
   "name": "python",
   "nbconvert_exporter": "python",
   "pygments_lexer": "ipython3",
   "version": "3.8.5"
  }
 },
 "nbformat": 4,
 "nbformat_minor": 4
}
