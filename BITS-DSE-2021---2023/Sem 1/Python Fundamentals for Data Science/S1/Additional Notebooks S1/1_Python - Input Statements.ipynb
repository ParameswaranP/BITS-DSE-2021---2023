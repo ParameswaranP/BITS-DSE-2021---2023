{
 "cells": [
  {
   "cell_type": "markdown",
   "metadata": {},
   "source": [
    "<center> <img src =\"https://i.postimg.cc/1X8H7YYt/BITS-Logo.png\" width = \"400\" alt=\"BITS Pilani Logo\" /> </center>"
   ]
  },
  {
   "cell_type": "markdown",
   "metadata": {},
   "source": [
    "<font color='green'> <h1> <center> Python - Input Statements </center> </h1> </font>"
   ]
  },
  {
   "cell_type": "markdown",
   "metadata": {},
   "source": [
    "<b>Python Inputs<b>"
   ]
  },
  {
   "cell_type": "markdown",
   "metadata": {},
   "source": [
    "The input function is a simple way to get data from user. Here is example :"
   ]
  },
  {
   "cell_type": "code",
   "execution_count": 1,
   "metadata": {},
   "outputs": [
    {
     "name": "stdin",
     "output_type": "stream",
     "text": [
      "What is your name? ParameshwaranP\n"
     ]
    },
    {
     "data": {
      "text/plain": [
       "'ParameshwaranP'"
      ]
     },
     "execution_count": 1,
     "metadata": {},
     "output_type": "execute_result"
    }
   ],
   "source": [
    "input('What is your name?')"
   ]
  },
  {
   "cell_type": "markdown",
   "metadata": {},
   "source": [
    "The string specified in the input fuction serves as message to the user about what needs to be keyed in. Whatever is entered \n",
    "by user is treated as string only. If number is entered by user, still it will be considered as string. For further processing \n",
    "it needs to be type casted to the appropriate data type."
   ]
  },
  {
   "cell_type": "code",
   "execution_count": 22,
   "metadata": {},
   "outputs": [
    {
     "name": "stdin",
     "output_type": "stream",
     "text": [
      "What is your age? 22\n"
     ]
    },
    {
     "data": {
      "text/plain": [
       "'22'"
      ]
     },
     "execution_count": 22,
     "metadata": {},
     "output_type": "execute_result"
    }
   ],
   "source": [
    "input('What is your age?')"
   ]
  },
  {
   "cell_type": "markdown",
   "metadata": {},
   "source": [
    "The user input can be saved as part of variable. "
   ]
  },
  {
   "cell_type": "markdown",
   "metadata": {},
   "source": [
    "variable_name = input('message to the user')"
   ]
  },
  {
   "cell_type": "code",
   "execution_count": 4,
   "metadata": {},
   "outputs": [
    {
     "name": "stdin",
     "output_type": "stream",
     "text": [
      "What is your name? ParameswaranP\n"
     ]
    },
    {
     "name": "stdout",
     "output_type": "stream",
     "text": [
      "ParameswaranP\n"
     ]
    }
   ],
   "source": [
    "name = input('What is your name?')\n",
    "print(name)"
   ]
  },
  {
   "cell_type": "code",
   "execution_count": 5,
   "metadata": {},
   "outputs": [
    {
     "name": "stdin",
     "output_type": "stream",
     "text": [
      "What is your name? ParameswananP\n"
     ]
    },
    {
     "name": "stdout",
     "output_type": "stream",
     "text": [
      "Welcome ParameswananP\n"
     ]
    }
   ],
   "source": [
    "name = input('What is your name?')\n",
    "print(\"Welcome\", name)"
   ]
  },
  {
   "cell_type": "markdown",
   "metadata": {},
   "source": [
    "<b>Check type of input variable <b>\n"
   ]
  },
  {
   "cell_type": "code",
   "execution_count": 6,
   "metadata": {},
   "outputs": [
    {
     "data": {
      "text/plain": [
       "str"
      ]
     },
     "execution_count": 6,
     "metadata": {},
     "output_type": "execute_result"
    }
   ],
   "source": [
    "type(name)"
   ]
  },
  {
   "cell_type": "code",
   "execution_count": 7,
   "metadata": {},
   "outputs": [
    {
     "name": "stdin",
     "output_type": "stream",
     "text": [
      "What is your age? 22\n"
     ]
    },
    {
     "name": "stdout",
     "output_type": "stream",
     "text": [
      "You have entered age as  22\n",
      "Type :  <class 'str'>\n"
     ]
    }
   ],
   "source": [
    "age = input('What is your age?')\n",
    "print(\"You have entered age as \", age)\n",
    "print(\"Type : \" , type(age))"
   ]
  },
  {
   "cell_type": "markdown",
   "metadata": {},
   "source": [
    "<b> Convert type of input variable <b>"
   ]
  },
  {
   "cell_type": "code",
   "execution_count": 1,
   "metadata": {},
   "outputs": [
    {
     "name": "stdin",
     "output_type": "stream",
     "text": [
      "What is your age? 22\n"
     ]
    },
    {
     "name": "stdout",
     "output_type": "stream",
     "text": [
      "You have entered age as  22\n",
      "Type :  <class 'int'>\n"
     ]
    }
   ],
   "source": [
    "age = int(input('What is your age?'))\n",
    "modified_age = int(age)\n",
    "print(\"You have entered age as \", modified_age)\n",
    "print(\"Type : \" , type(modified_age))"
   ]
  },
  {
   "cell_type": "code",
   "execution_count": 9,
   "metadata": {},
   "outputs": [
    {
     "name": "stdin",
     "output_type": "stream",
     "text": [
      "What is your salary? 143.2\n"
     ]
    },
    {
     "name": "stdout",
     "output_type": "stream",
     "text": [
      "You have entered salary as  143.2\n",
      "Type :  <class 'float'>\n"
     ]
    }
   ],
   "source": [
    "salary = input('What is your salary?')\n",
    "modified_salary = float(salary)\n",
    "print(\"You have entered salary as \", modified_salary)\n",
    "print(\"Type : \" , type(modified_salary))"
   ]
  },
  {
   "cell_type": "markdown",
   "metadata": {},
   "source": [
    "<b> Using eval <b>"
   ]
  },
  {
   "cell_type": "markdown",
   "metadata": {},
   "source": [
    "The eval function convertes the text entered by user into a number without explicity typecasting. "
   ]
  },
  {
   "cell_type": "code",
   "execution_count": 17,
   "metadata": {},
   "outputs": [
    {
     "name": "stdin",
     "output_type": "stream",
     "text": [
      "What is your age?\n",
      " 22\n"
     ]
    },
    {
     "name": "stdout",
     "output_type": "stream",
     "text": [
      "You have entered age as  22\n",
      "Type :  <class 'int'>\n"
     ]
    }
   ],
   "source": [
    "my_age = eval(input('What is your age?\\n'))\n",
    "print(\"You have entered age as \", my_age)\n",
    "print(\"Type : \" , type(my_age))"
   ]
  },
  {
   "cell_type": "code",
   "execution_count": 18,
   "metadata": {},
   "outputs": [
    {
     "name": "stdin",
     "output_type": "stream",
     "text": [
      "What is your salary?\n",
      " 143.2\n"
     ]
    },
    {
     "name": "stdout",
     "output_type": "stream",
     "text": [
      "You have entered salary as  143.2\n",
      "Type :  <class 'float'>\n"
     ]
    }
   ],
   "source": [
    "my_salary = eval(input('What is your salary?\\n'))\n",
    "print(\"You have entered salary as \", my_salary)\n",
    "print(\"Type : \" , type(my_salary))"
   ]
  },
  {
   "cell_type": "code",
   "execution_count": 25,
   "metadata": {},
   "outputs": [
    {
     "name": "stdin",
     "output_type": "stream",
     "text": [
      "Enter your marks\n",
      " 11+11+12\n"
     ]
    },
    {
     "name": "stdout",
     "output_type": "stream",
     "text": [
      "You have entered age as  34\n"
     ]
    }
   ],
   "source": [
    "my_total_marks = eval(input('Enter your marks\\n'))\n",
    "#Enter an expression like 23 + 34 + 45 \n",
    "print(\"You have entered age as \", my_total_marks)"
   ]
  },
  {
   "cell_type": "markdown",
   "metadata": {},
   "source": [
    "<b>Exercise <b>"
   ]
  },
  {
   "cell_type": "markdown",
   "metadata": {},
   "source": [
    "Q1. Ask the user to enter the number and then print its squares and cubes. "
   ]
  },
  {
   "cell_type": "code",
   "execution_count": 28,
   "metadata": {},
   "outputs": [
    {
     "name": "stdin",
     "output_type": "stream",
     "text": [
      "Enter the number to be squared and cubed 10\n"
     ]
    },
    {
     "name": "stdout",
     "output_type": "stream",
     "text": [
      "Square =  100\n",
      "Cube =  1000\n"
     ]
    }
   ],
   "source": [
    "#Try it here\n",
    "number = eval(input(\"Enter the number to be squared and cubed\"))\n",
    "squ = number ** 2\n",
    "cub = number**3\n",
    "print(\"Square = \", squ)\n",
    "print(\"Cube = \", cub)"
   ]
  },
  {
   "cell_type": "markdown",
   "metadata": {},
   "source": [
    "Q2. Write a program that asks user to input three numbers with separate input statements. Use the variable named total to store the sum of those numbers and avg to store the average of those nummbers.\n",
    "Then output the numbers along with the total and average. "
   ]
  },
  {
   "cell_type": "code",
   "execution_count": 33,
   "metadata": {},
   "outputs": [
    {
     "name": "stdin",
     "output_type": "stream",
     "text": [
      "Enter the 1st number 10\n",
      "Enter the 2nd number 20\n",
      "Enter the 3rd number 30\n"
     ]
    },
    {
     "name": "stdout",
     "output_type": "stream",
     "text": [
      "Input numbers are 10 20 30 There total =  60 There Average =  20.0\n"
     ]
    }
   ],
   "source": [
    "#Try it here\n",
    "num1 = eval(input(\"Enter the 1st number\"))\n",
    "num2 = eval(input(\"Enter the 2nd number\"))\n",
    "num3 = eval(input(\"Enter the 3rd number\"))\n",
    "total = num1 + num2 + num3\n",
    "avg = total/3\n",
    "print(\"Input numbers are\", num1, num2, num3, \"There total = \", total, \"There Average = \", avg)\n",
    "# List Method:\n",
    "# try_num_lis = eval(input(\"Enter list of num\")) # input need to given as a list Eg - [10, 20, 30]\n",
    "# total = sum(try_num_lis)\n",
    "# avg = sum(try_num_lis)/len(try_num_lis)\n",
    "# print(\"Input numbers are\", try_num_lis, \"There total = \", total, \"There Average = \", avg)"
   ]
  },
  {
   "cell_type": "markdown",
   "metadata": {},
   "source": [
    "Q3. Create a salary estimator. Ask user for the basic salary, using it compute HRA as 10% of basic salary, add conveyance allowance as Rs 3500 to it. \n",
    "Output all the salary components on the console."
   ]
  },
  {
   "cell_type": "code",
   "execution_count": 40,
   "metadata": {},
   "outputs": [
    {
     "name": "stdin",
     "output_type": "stream",
     "text": [
      "Enetr the salary :  5000\n"
     ]
    },
    {
     "name": "stdout",
     "output_type": "stream",
     "text": [
      "Total Salary =  9000.0 \n",
      "Basic Salary =  5000 \n",
      "HRA =  500.0 \n",
      "Allowance =  3500\n"
     ]
    }
   ],
   "source": [
    "#Try it here\n",
    "basic_salary = eval(input(\"Enetr the salary : \"))\n",
    "hra = salary * 0.1\n",
    "allowance = 3500\n",
    "total_salry = basic_salary + hra + allowance\n",
    "print(\"Total Salary = \", total_salry, \"\\nBasic Salary = \", basic_salary, \"\\nHRA = \", hra, \"\\nAllowance = \", allowance) "
   ]
  },
  {
   "cell_type": "code",
   "execution_count": null,
   "metadata": {},
   "outputs": [],
   "source": []
  }
 ],
 "metadata": {
  "kernelspec": {
   "display_name": "Python 3 (ipykernel)",
   "language": "python",
   "name": "python3"
  },
  "language_info": {
   "codemirror_mode": {
    "name": "ipython",
    "version": 3
   },
   "file_extension": ".py",
   "mimetype": "text/x-python",
   "name": "python",
   "nbconvert_exporter": "python",
   "pygments_lexer": "ipython3",
   "version": "3.9.5"
  }
 },
 "nbformat": 4,
 "nbformat_minor": 4
}
